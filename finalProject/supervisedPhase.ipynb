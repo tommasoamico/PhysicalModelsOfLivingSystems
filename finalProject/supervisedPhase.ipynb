{
 "cells": [
  {
   "cell_type": "code",
   "execution_count": 1,
   "id": "operating-discussion",
   "metadata": {},
   "outputs": [],
   "source": [
    "import torch\n",
    "import torch.nn as nn\n",
    "import torch.nn.functional as F\n",
    "\n",
    "import numpy as np\n",
    "\n",
    "from torch.utils.data import TensorDataset, DataLoader\n",
    "from torch.optim import Adam\n",
    "\n",
    "from ignite.engine import Events, create_supervised_trainer, create_supervised_evaluator\n",
    "from ignite.metrics import Accuracy, Loss\n",
    "\n",
    "import scipy.io\n",
    "\n",
    "from time import time\n",
    "\n",
    "from tqdm.notebook import tqdm"
   ]
  },
  {
   "cell_type": "code",
   "execution_count": 2,
   "id": "79b6901a",
   "metadata": {},
   "outputs": [
    {
     "data": {
      "text/plain": [
       "array([ 2.26498657, 98.51201859])"
      ]
     },
     "execution_count": 2,
     "metadata": {},
     "output_type": "execute_result"
    }
   ],
   "source": [
    "np.random.normal((2, 100)).flatten()"
   ]
  },
  {
   "cell_type": "code",
   "execution_count": 2,
   "id": "unable-reverse",
   "metadata": {},
   "outputs": [],
   "source": [
    "class BioNet(nn.Module):\n",
    "    def __init__(self,\n",
    "                 weights : torch.Tensor,\n",
    "                 output_dim : int,\n",
    "                 n : float = 4.5,\n",
    "                 beta : float =.01):\n",
    "        \n",
    "        \"\"\"\n",
    "        Simple MNIST classifier initialized with weights from the unsupervised (bio)learning algorithm for the first layer.\n",
    "        \n",
    "        Parameters\n",
    "        ----------\n",
    "        weights : torch.Tensor of shape (output_dim, input_dim), where input_dim = 28*28 for the MNIST dataset\n",
    "            Weights computed from unsupervised learning.\n",
    "        output_dim : int\n",
    "            Number of classes (10 for MNIST)\n",
    "        n : float\n",
    "            Exponent of ReLU\n",
    "        beta : float\n",
    "            \"Inverse temperature\" for tanh activation in the top layer (See equation 1 in [10]).\n",
    "        \"\"\"\n",
    "        \n",
    "        super().__init__()\n",
    "        self.weights = torch.t(weights) #shape (output_dim, input_dim) -> (input_dim, output_dim)\n",
    "        #[Because batch_size is the first dimension of inputs, and so it is convenient to transpose the weights\n",
    "        #so that a single matrix multiplication works for the entire batch]\n",
    "        \n",
    "        self.n = n\n",
    "        self.beta = beta\n",
    "        # The .size method is equivalent to .shape in numpy\n",
    "        self.top = nn.Linear(in_features = weights.size(0), out_features = output_dim, bias=False)\n",
    "        \n",
    "    def forward(self, inputs : torch.Tensor): # vᵢ: (batch_sz, img_sz)\n",
    "        \"\"\"\n",
    "        Parameters\n",
    "        ----------\n",
    "        inputs : torch.Tensor of shape (batch_size, input_dim)\n",
    "            Batch of input values\n",
    "        \"\"\"\n",
    "        \n",
    "        out = torch.matmul(inputs, self.weights) \n",
    "        out = F.relu(out) ** self.n\n",
    "        out = self.top(out)\n",
    "        out = torch.tanh(self.beta * out)\n",
    "        \n",
    "        return out\n",
    "    \n",
    "class BioLoss(nn.Module):\n",
    "    \"\"\"Loss introduced in eq. 12 of [1]\n",
    "    \n",
    "    [1]: \"Unsupervised learning by competing hidden units\", D. Krotov, J. J. Hopfield, 2019, \n",
    "         https://www.pnas.org/content/116/16/7723\n",
    "    \"\"\"\n",
    "    \n",
    "    def __init__(self,\n",
    "                 output_dim : int = 10,\n",
    "                 m : int = 6):\n",
    "        \n",
    "        super().__init__()\n",
    "        \n",
    "        self.output_dim = output_dim\n",
    "        self.m = m\n",
    "\n",
    "    def forward(self, predicted, true_val): \n",
    "        one_hot = torch.eye(self.output_dim, dtype=torch.float, device=predicted.device)[true_val]\n",
    "        #Convert true values to one hot encoding\n",
    "        one_hot[one_hot == 0] = -1 #Substitute 0s with -1 (spin-like one hot encoding)\n",
    "        \n",
    "        loss = (predicted - one_hot).abs() ** self.m\n",
    "        \n",
    "        return torch.sum(loss)"
   ]
  },
  {
   "attachments": {},
   "cell_type": "markdown",
   "id": "4d5b5d3a",
   "metadata": {},
   "source": [
    "Equation for the loss defined in the `BioLoss` class above,\n",
    "\n",
    "$$\n",
    "C \\quad = \\quad \\sum_{examples} \\sum_{\\alpha = 1}^{N_c}|c_{\\alpha} - t_{\\alpha}|^m\n",
    "$$\n",
    "\n",
    "where $t_{\\alpha}$ are the one hot encoded labels (composed of $\\pm$ 1) values. $c_{\\alpha}$ are instead the predicted values."
   ]
  },
  {
   "cell_type": "code",
   "execution_count": 3,
   "id": "virtual-silly",
   "metadata": {},
   "outputs": [],
   "source": [
    "def run_test(train_X, train_y, test_X, test_y, model, epochs, loss, batch_size=64, lr=1e-3, verbose=0):\n",
    "    #From https://github.com/gatapia/unsupervised_bio_classifier/blob/master/src/bio_learn2.py\n",
    "    #(Standard training code)\n",
    "    \n",
    "    start = time()\n",
    "    train_ds = TensorDataset(train_X, train_y)\n",
    "    train_dl = DataLoader(train_ds, batch_size=batch_size, shuffle=True)\n",
    "    test_ds = TensorDataset(test_X, test_y)\n",
    "    test_dl = DataLoader(test_ds, batch_size=batch_size, shuffle=False)\n",
    "        \n",
    "    optimizer = Adam(model.parameters(), lr=lr)    \n",
    "    #create_supervised_trainer is a factory function (a function that returns a new object) for creating a trainer for supervised models\n",
    "    trainer = create_supervised_trainer(model, optimizer, loss)\n",
    "    evaluator = create_supervised_evaluator(model, metrics={'accuracy': Accuracy(), 'loss': Loss(loss)})\n",
    "    \n",
    "    pbar = tqdm(initial=0, leave=False, total=epochs, desc=f\"ITERATION\") #Progress bar\n",
    "    \n",
    "    train_err = []\n",
    "    test_err  = []\n",
    "    \n",
    "    # Basic usage of ignite's create_supervised_trainer function\n",
    "\n",
    "    #EPOCH_COMPLETED : triggered when the epoch is ended. Note that this is triggered even when terminate_epoch() is called.\n",
    "    @trainer.on(Events.EPOCH_COMPLETED)\n",
    "    def log_epoch(trainer):\n",
    "        evaluator.run(train_dl)\n",
    "        metrics = evaluator.state.metrics\n",
    "        train_acc = metrics['accuracy']\n",
    "        \n",
    "        evaluator.run(test_dl)\n",
    "        metrics = evaluator.state.metrics\n",
    "        test_acc = metrics['accuracy']\n",
    "        \n",
    "        train_err.append( 100 * (1. - train_acc) )\n",
    "        test_err.append( 100 * (1. - test_acc ) )\n",
    "        \n",
    "        pbar.desc = f\"ITERATION - accuracy (train): {train_acc:.3f} - accuracy (test) : {test_acc:.3f}\"\n",
    "        pbar.update(1)\n",
    "\n",
    "    # COMPLETED : triggered when engine’s run is completed\n",
    "    @trainer.on(Events.COMPLETED)\n",
    "    def log_complete(engine):\n",
    "        evaluator.run(test_dl)        \n",
    "        print(\"Final Accuracy: {:.2f} Took: {:.0f}s\".format(evaluator.state.metrics['accuracy'], time() - start))\n",
    "\n",
    "    trainer.run(train_dl, max_epochs=epochs) \n",
    "    \n",
    "    return train_err, test_err"
   ]
  },
  {
   "cell_type": "code",
   "execution_count": 4,
   "id": "interesting-afternoon",
   "metadata": {},
   "outputs": [],
   "source": [
    "def get_data(data_type):\n",
    "    mat = scipy.io.loadmat('../../data/project/MNIST/mnist_all.mat')\n",
    "    X=torch.zeros((0, 28 * 28), dtype=torch.float)\n",
    "    y=torch.zeros(0, dtype=torch.long)\n",
    "    for i in range(10): \n",
    "        X_i = torch.from_numpy(mat[data_type + str(i)].astype(np.float64)).float()\n",
    "        # cat concatenates a given sequence of tensors\n",
    "        X = torch.cat((X, X_i))\n",
    "        y_i = torch.full(size=(len(X_i),), fill_value=i, dtype=torch.long)\n",
    "        y = torch.cat((y, y_i))\n",
    "    return X / 255.0, y"
   ]
  },
  {
   "cell_type": "code",
   "execution_count": 5,
   "id": "incorrect-wrestling",
   "metadata": {},
   "outputs": [],
   "source": [
    "weights = torch.load(\"../../data/project/weightsUnsupervised/unsupervisedWeights\") #Load saved weights"
   ]
  },
  {
   "cell_type": "code",
   "execution_count": 6,
   "id": "c465df36",
   "metadata": {},
   "outputs": [
    {
     "data": {
      "text/plain": [
       "(2000, 784)"
      ]
     },
     "execution_count": 6,
     "metadata": {},
     "output_type": "execute_result"
    }
   ],
   "source": [
    "weights.detach().numpy().shape"
   ]
  },
  {
   "cell_type": "code",
   "execution_count": 7,
   "id": "played-universe",
   "metadata": {},
   "outputs": [
    {
     "name": "stdout",
     "output_type": "stream",
     "text": [
      "train_data, test_data: torch.Size([60000, 784]) torch.Size([60000]) torch.Size([10000, 784]) torch.Size([10000])\n"
     ]
    }
   ],
   "source": [
    "(train_X, train_y), (test_X, test_y) = get_data('train'), get_data('test')\n",
    "print('train_data, test_data:', train_X.shape, train_y.shape, test_X.shape, test_y.shape) #Load dataset"
   ]
  },
  {
   "cell_type": "code",
   "execution_count": 8,
   "id": "tutorial-restoration",
   "metadata": {},
   "outputs": [
    {
     "data": {
      "application/vnd.jupyter.widget-view+json": {
       "model_id": "c99233d6266344d484ba07017903ab29",
       "version_major": 2,
       "version_minor": 0
      },
      "text/plain": [
       "ITERATION:   0%|          | 0/30 [00:00<?, ?it/s]"
      ]
     },
     "metadata": {},
     "output_type": "display_data"
    },
    {
     "name": "stdout",
     "output_type": "stream",
     "text": [
      "Final Accuracy: 0.97 Took: 1131s\n"
     ]
    }
   ],
   "source": [
    "#Supervised training of top layer\n",
    "n_classes = 10\n",
    "model = BioNet(weights.float(), n_classes, beta=.001)#.cuda() #Remove .cuda() everywhere in this line to train on CPU only\n",
    "train_err, test_err = run_test(train_X, train_y, test_X, test_y, model, epochs=30, loss=BioLoss(n_classes), batch_size=100, lr=1e-4)  "
   ]
  },
  {
   "cell_type": "code",
   "execution_count": 14,
   "id": "164a0c1e",
   "metadata": {},
   "outputs": [
    {
     "data": {
      "text/plain": [
       "3.159999999999996"
      ]
     },
     "execution_count": 14,
     "metadata": {},
     "output_type": "execute_result"
    }
   ],
   "source": [
    "test_err[-1]"
   ]
  },
  {
   "cell_type": "code",
   "execution_count": 21,
   "id": "sixth-sailing",
   "metadata": {},
   "outputs": [
    {
     "data": {
      "image/png": "[encoded data removed]",
      "text/plain": [
       "<Figure size 432x288 with 1 Axes>"
      ]
     },
     "metadata": {
      "needs_background": "light"
     },
     "output_type": "display_data"
    }
   ],
   "source": [
    "import matplotlib.pyplot as plt\n",
    "#from mpl2latex import mpl2latex, latex_figsize\n",
    "\n",
    "#with mpl2latex(True):\n",
    "fig = plt.figure(figsize=(6, 4))\n",
    "\n",
    "epochs = np.arange(len(train_err))\n",
    "plt.plot(epochs, train_err, label=\"Train\")\n",
    "plt.plot(epochs, test_err, label=\"Test\")\n",
    "\n",
    "plt.xlabel(\"Epoch\", fontsize = 15)\n",
    "plt.ylabel(\"Error [%]\", fontsize = 15)\n",
    "\n",
    "plt.xticks(fontsize = 12)\n",
    "plt.yticks(fontsize = 12)\n",
    "\n",
    "plt.legend(facecolor='aliceblue', framealpha=1, shadow = True, edgecolor = 'black', fontsize = 12)\n",
    "plt.show()\n",
    "fig.savefig(\"../../data/project/plots/supervised_learning.pdf\", transparent=True, bbox_inches='tight')"
   ]
  },
  {
   "attachments": {},
   "cell_type": "markdown",
   "id": "southeast-nursing",
   "metadata": {},
   "source": [
    "For the implementation of the concolutional algorithm we redirect the interested reader to the [convolution notebook](./convolutionNotebook.ipynb)"
   ]
  },
  {
   "cell_type": "code",
   "execution_count": null,
   "id": "585c1889",
   "metadata": {},
   "outputs": [],
   "source": []
  },
  {
   "cell_type": "markdown",
   "id": "36b29e14",
   "metadata": {},
   "source": []
  }
 ],
 "metadata": {
  "kernelspec": {
   "display_name": "torch",
   "language": "python",
   "name": "python3"
  },
  "language_info": {
   "codemirror_mode": {
    "name": "ipython",
    "version": 3
   },
   "file_extension": ".py",
   "mimetype": "text/x-python",
   "name": "python",
   "nbconvert_exporter": "python",
   "pygments_lexer": "ipython3",
   "version": "3.8.13"
  },
  "vscode": {
   "interpreter": {
    "hash": "eea8b80adef1497d7dfb4c0448d9c7aaf24335e0b82315474639507e757c963e"
   }
  }
 },
 "nbformat": 4,
 "nbformat_minor": 5
}
