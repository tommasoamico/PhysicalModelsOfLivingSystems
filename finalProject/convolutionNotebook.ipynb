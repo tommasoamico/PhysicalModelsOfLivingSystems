{
 "cells": [
  {
   "cell_type": "code",
   "execution_count": 8,
   "metadata": {},
   "outputs": [],
   "source": [
    "import torch\n",
    "from data import CIFAR10DataModule\n",
    "import biopytorch.biolinear as biolinear\n",
    "import biopytorch.biotrainer as bio_train\n",
    "from plotting import plot_rgb_filters\n",
    "from biopytorch.bioconv2d import BioConv2d\n",
    "from biopytorch.biotrainer import bio_train\n",
    "from plotting import plot_rgb_filters\n",
    "import matplotlib.pyplot as plt\n",
    "import numpy as np\n",
    "import torch.nn as nn\n",
    "import torch.nn.functional as F\n",
    "from torch.optim import Adam, SGD, lr_scheduler\n",
    "from tqdm.notebook import tqdm\n",
    "from ignite.engine import Events, create_supervised_trainer, create_supervised_evaluator\n",
    "from time import time\n",
    "from ignite.metrics import Accuracy, Loss\n",
    "from ignite.handlers.param_scheduler import create_lr_scheduler_with_warmup, LRScheduler\n",
    "from torchvision import transforms\n",
    "from torch.utils.data import DataLoader"
   ]
  },
  {
   "attachments": {},
   "cell_type": "markdown",
   "metadata": {},
   "source": [
    "## The main porperties of a convolutional layer:\n",
    "\n",
    "- **Local receptive fields**: each neuron receives input only form a patch of the image.\n",
    "\n",
    "- **Weight sharing**: the same set of weights (kernel) is used for all teh receptive fields.\n",
    "\n",
    "Why in image classification convolutional layers outperform fully connected layers:\n",
    "\n",
    "1. **Local receptive fields**\n",
    "    - Patterns in images are mostly local.\n",
    "    - Different scales can be captured by tweaking the kernel size, or by rescaling\n",
    "        the inputs (e.g. through maxpooling).\n",
    "    - Inspired by retinal ganglion cells and V1 neurons in the primary visual cortex.\n",
    "\n",
    "2. **Weight sharing**\n",
    "    - Ability to detect the same pattern in different position in the image.\n",
    "    - Images can be described by few “universal” patterns that can appear in any\n",
    "    position.\n",
    "    - Fewer weights to learn improve performance and help against overfitting"
   ]
  },
  {
   "attachments": {},
   "cell_type": "markdown",
   "metadata": {},
   "source": [
    "### How do we learn convolutional layers with the bio-inspired rule?\n",
    "\n",
    "A convolutional kernel is just a perceptron working on patches,\n",
    "\n",
    "<center>\n",
    "<img src = \"../../data/project/convKernel.png\" style = \"width:500px;\">\n",
    "</center>"
   ]
  },
  {
   "attachments": {},
   "cell_type": "markdown",
   "metadata": {},
   "source": [
    "So, by unfolding patches and kernels, the setup is the same as the traditional one.\n",
    "\n",
    "Futhermore, different kernels compete the same way as neurons in the standard feed forward setup did. The Hebbian teerm is just the sum of different patches weighted by the activations.\n",
    "\n",
    "### Drawback\n",
    "The efficiency of this strategy is dragged down mainly two factors. First of all the number of patches scales as the square of the image size (assuming `padding` = \"valid\") e.g. with *CIFAR10* ($32 \\times 32$ images) and a $5 \\times 5$ kernel  we have $28^2 = 784 patches$.\n",
    "The second hurdle is represented that by the lack of optimization for the operations we want to perform while $2d$ convolution are estensively optimized by the main libraries.\n",
    "\n",
    "To fix this problem we transform this problem into a convolution. We can find the Hebbian term as,\n",
    "\n",
    "$$\n",
    "\\text{Hebbian term} = H_{\\nu} = \\sum_{\\mu} P_{\\mu \\nu} \\cdot A_{\\mu}; \\quad H_{1} = \\sum_{\\mu} P_{\\mu 1} A_{\\mu} = \\langle P_{\\mu 1} A_{\\mu} \\rangle\n",
    "$$\n",
    "\n",
    "So we rewrote a generic Hebbian term as an inner product between $1-d$ vectors. The first of the $2$ vectors is formed by all the first pixels of each patch forming a grid of near-by pixels. The inner product can thus be rewritten as the convolution between this latter grid and a properly reshaped post activation values."
   ]
  },
  {
   "cell_type": "code",
   "execution_count": 9,
   "metadata": {},
   "outputs": [
    {
     "name": "stdout",
     "output_type": "stream",
     "text": [
      "Torch version: 1.12.0\n",
      "Using \"cpu\" for training\n"
     ]
    }
   ],
   "source": [
    "print(\"Torch version:\", torch.__version__)\n",
    "\n",
    "#Select device for training\n",
    "#device = \"cpu\" #For this very simple dataset it is actually faster\n",
    "device = torch.device(\"cuda\") if torch.cuda.is_available() else torch.device(\"cpu\") #Uncomment for GPU \n",
    "\n",
    "print(f'Using \"{device}\" for training')"
   ]
  },
  {
   "cell_type": "code",
   "execution_count": 10,
   "metadata": {},
   "outputs": [
    {
     "name": "stdout",
     "output_type": "stream",
     "text": [
      "Files already downloaded and verified\n",
      "Files already downloaded and verified\n"
     ]
    }
   ],
   "source": [
    "#composed_transform = transforms.Compose([transforms.RandomHorizontalFlip(p=0.5), transforms.RandomResizedCrop(32)])\n",
    "cifar10 = CIFAR10DataModule(batch_size = 64)#, train_data_transform = composed_transform)\n",
    "cifar10.setup()"
   ]
  },
  {
   "cell_type": "code",
   "execution_count": 11,
   "metadata": {},
   "outputs": [],
   "source": [
    "def plot_filters_callback(weights):\n",
    "    plot_rgb_filters(weights[:5])"
   ]
  },
  {
   "cell_type": "code",
   "execution_count": 12,
   "metadata": {},
   "outputs": [
    {
     "data": {
      "image/png": "[encoded data removed]",
      "text/plain": [
       "<Figure size 864x864 with 25 Axes>"
      ]
     },
     "metadata": {
      "needs_background": "light"
     },
     "output_type": "display_data"
    }
   ],
   "source": [
    "bioconv = BioConv2d(in_channels = 3, out_channels = 96, kernel_size=5, ranking_param=2, lebesgue_p=3, delta=.2) #delta=.05 works too\n",
    "#plot_rgb_filters(bioconv.weight.cpu())\n",
    "plot_rgb_filters(bioconv.weight.cpu())"
   ]
  },
  {
   "cell_type": "code",
   "execution_count": 13,
   "metadata": {},
   "outputs": [
    {
     "data": {
      "application/vnd.jupyter.widget-view+json": {
       "model_id": "655604fc125c49bd83f7ed3523845457",
       "version_major": 2,
       "version_minor": 0
      },
      "text/plain": [
       "  0%|          | 0/5 [00:00<?, ?it/s]"
      ]
     },
     "metadata": {},
     "output_type": "display_data"
    },
    {
     "data": {
      "application/vnd.jupyter.widget-view+json": {
       "model_id": "3d0f3ea6860e4305a36b1bcee6c15eca",
       "version_major": 2,
       "version_minor": 0
      },
      "text/plain": [
       "  0%|          | 0/625 [00:00<?, ?it/s]"
      ]
     },
     "metadata": {},
     "output_type": "display_data"
    },
    {
     "data": {
      "image/png": "[encoded data removed]",
      "text/plain": [
       "<Figure size 864x172.8 with 5 Axes>"
      ]
     },
     "metadata": {
      "needs_background": "light"
     },
     "output_type": "display_data"
    },
    {
     "data": {
      "image/png": "[encoded data removed]",
      "text/plain": [
       "<Figure size 864x172.8 with 5 Axes>"
      ]
     },
     "metadata": {
      "needs_background": "light"
     },
     "output_type": "display_data"
    },
    {
     "data": {
      "image/png": "[encoded data removed]",
      "text/plain": [
       "<Figure size 864x172.8 with 5 Axes>"
      ]
     },
     "metadata": {
      "needs_background": "light"
     },
     "output_type": "display_data"
    },
    {
     "data": {
      "text/plain": [
       "<Figure size 432x288 with 0 Axes>"
      ]
     },
     "metadata": {},
     "output_type": "display_data"
    }
   ],
   "source": [
    "bio_train(bioconv, cifar10, n_epochs=5, epoch_callback=plot_filters_callback, lr_scheduler=(.007, .0001, .8), device = device)\n",
    "plt.savefig(\"bioconvWeights.png\")"
   ]
  },
  {
   "cell_type": "code",
   "execution_count": 14,
   "metadata": {},
   "outputs": [],
   "source": [
    "#torch.save(bioconv.weight, \"weightsCIFAR\")"
   ]
  },
  {
   "cell_type": "code",
   "execution_count": 5,
   "metadata": {},
   "outputs": [],
   "source": [
    "bioconv_weights = torch.load(\"weightsCIFAR\")"
   ]
  },
  {
   "attachments": {},
   "cell_type": "markdown",
   "metadata": {},
   "source": [
    "## Supervised phase"
   ]
  },
  {
   "cell_type": "code",
   "execution_count": 6,
   "metadata": {},
   "outputs": [],
   "source": [
    "class Net(nn.Module):\n",
    "    def __init__(self, weights, out_classes = 10, n = 4.5, beta = .1):\n",
    "        \n",
    "        super(Net, self).__init__()\n",
    "        self.weights = weights\n",
    "        #self.conv = BioConv2d(in_channels = 3, out_channels = 96, kernel_size=5, ranking_param=2, lebesgue_p=3, delta=.2)\n",
    "        self.fc = nn.Linear(14*14*96, out_classes)\n",
    "        self.n = n\n",
    "        self.beta = beta\n",
    "\n",
    "    def forward(self, x):\n",
    "        x = F.conv2d(x, self.weights)\n",
    "        x = F.relu(x) #** self.n\n",
    "        x = nn.MaxPool2d(2)(x)\n",
    "        x = nn.BatchNorm2d(96)(x)\n",
    "        x = torch.flatten(x, 1)\n",
    "        x = self.fc(x)\n",
    "        return x\n",
    "\n",
    "class BioLoss(nn.Module):\n",
    "    \"\"\"Loss introduced in eq. 12 of [1]\n",
    "    \n",
    "    [1]: \"Unsupervised learning by competing hidden units\", D. Krotov, J. J. Hopfield, 2019, \n",
    "         https://www.pnas.org/content/116/16/7723\n",
    "    \"\"\"\n",
    "    \n",
    "    def __init__(self,\n",
    "                 output_dim : int = 10,\n",
    "                 m : int = 6):\n",
    "        \n",
    "        super().__init__()\n",
    "        \n",
    "        self.output_dim = output_dim\n",
    "        self.m = m\n",
    "\n",
    "    def forward(self, predicted, true_val): \n",
    "        one_hot = torch.eye(self.output_dim, dtype=torch.float, device=predicted.device)[true_val]\n",
    "        #Convert true values to one hot encoding\n",
    "        one_hot[one_hot == 0] = -1 #Substitute 0s with -1 (spin-like one hot encoding)\n",
    "        \n",
    "        loss = (predicted - one_hot).abs() ** self.m\n",
    "        \n",
    "        return torch.sum(loss)"
   ]
  },
  {
   "cell_type": "code",
   "execution_count": 7,
   "metadata": {},
   "outputs": [],
   "source": [
    "model = Net(weights=bioconv_weights, out_classes=10, n=4.5, beta=.1)"
   ]
  },
  {
   "attachments": {},
   "cell_type": "markdown",
   "metadata": {},
   "source": [
    "# Adjust the learning rate"
   ]
  },
  {
   "cell_type": "code",
   "execution_count": 8,
   "metadata": {},
   "outputs": [],
   "source": [
    "#loss=BioLoss(10) \n",
    "loss = nn.CrossEntropyLoss()"
   ]
  },
  {
   "cell_type": "code",
   "execution_count": 13,
   "metadata": {},
   "outputs": [],
   "source": [
    "### Training function\n",
    "epochs = 8\n",
    "def run_test(train_dl, test_dl, batch_size=64, lr=1e-3, verbose=0):\n",
    "    #From https://github.com/gatapia/unsupervised_bio_classifier/blob/master/src/bio_learn2.py\n",
    "    #(Standard training code)\n",
    "    \n",
    "    start = time()\n",
    "    train_dl = train_dl\n",
    "    test_dl = test_dl\n",
    "        \n",
    "    optimizer = Adam(model.parameters(), lr=lr)    \n",
    "    #create_supervised_trainer is a factory function (a function that returns a new object) for creating a trainer for supervised models\n",
    "    trainer = create_supervised_trainer(model, optimizer, loss)\n",
    "    evaluator = create_supervised_evaluator(model, metrics={'accuracy': Accuracy(), 'loss': Loss(loss)})\n",
    "    \n",
    "    pbar = tqdm(initial=0, leave=False, total=epochs, desc=f\"ITERATION\") #Progress bar\n",
    "    \n",
    "    train_err = []\n",
    "    test_err  = []\n",
    "    torch_lr_scheduler = lr_scheduler.CosineAnnealingLR(optimizer, T_max=10)\n",
    "\n",
    "    scheduler = create_lr_scheduler_with_warmup(torch_lr_scheduler, warmup_start_value=0.0, warmup_end_value=lr, warmup_duration=5)\n",
    "    # Basic usage of ignite's create_supervised_trainer function\n",
    "    trainer.add_event_handler(Events.ITERATION_STARTED, scheduler)\n",
    "    #EPOCH_COMPLETED : triggered when the epoch is ended. Note that this is triggered even when terminate_epoch() is called.\n",
    "    @trainer.on(Events.EPOCH_COMPLETED)\n",
    "    def log_epoch(trainer):\n",
    "        evaluator.run(train_dl)\n",
    "        metrics = evaluator.state.metrics\n",
    "        train_acc = metrics['accuracy']\n",
    "        \n",
    "        evaluator.run(test_dl)\n",
    "        metrics = evaluator.state.metrics\n",
    "        test_acc = metrics['accuracy']\n",
    "        \n",
    "        train_err.append( 100 * (1. - train_acc) )\n",
    "        test_err.append( 100 * (1. - test_acc ) )\n",
    "        \n",
    "        pbar.desc = f\"ITERATION - accuracy (train): {train_acc:.3f} - accuracy (test) : {test_acc:.3f}\"\n",
    "        pbar.update(1)\n",
    "\n",
    "    # COMPLETED : triggered when engine’s run is completed\n",
    "    @trainer.on(Events.COMPLETED)\n",
    "    def log_complete(engine):\n",
    "        evaluator.run(test_dl)        \n",
    "        print(\"Final Accuracy: {:.2f} Took: {:.0f}s\".format(evaluator.state.metrics['accuracy'], time() - start))\n",
    "\n",
    "    trainer.run(train_dl, max_epochs=epochs) \n",
    "    \n",
    "    return train_err, test_err"
   ]
  },
  {
   "cell_type": "code",
   "execution_count": null,
   "metadata": {},
   "outputs": [],
   "source": []
  },
  {
   "cell_type": "code",
   "execution_count": 14,
   "metadata": {},
   "outputs": [
    {
     "data": {
      "application/vnd.jupyter.widget-view+json": {
       "model_id": "fd57f11d5fc7424b8e9d5d804aee895a",
       "version_major": 2,
       "version_minor": 0
      },
      "text/plain": [
       "ITERATION:   0%|          | 0/8 [00:00<?, ?it/s]"
      ]
     },
     "metadata": {},
     "output_type": "display_data"
    },
    {
     "name": "stdout",
     "output_type": "stream",
     "text": [
      "Final Accuracy: 0.51 Took: 429s\n"
     ]
    },
    {
     "data": {
      "text/plain": [
       "([48.262499999999996,\n",
       "  38.334999999999994,\n",
       "  38.739999999999995,\n",
       "  37.8625,\n",
       "  41.9075,\n",
       "  40.7825,\n",
       "  39.0125,\n",
       "  34.69],\n",
       " [57.220000000000006,\n",
       "  50.629999999999995,\n",
       "  50.17,\n",
       "  50.36000000000001,\n",
       "  53.620000000000005,\n",
       "  52.81,\n",
       "  52.269999999999996,\n",
       "  49.46])"
      ]
     },
     "execution_count": 14,
     "metadata": {},
     "output_type": "execute_result"
    }
   ],
   "source": [
    "run_test(cifar10.train_dataloader(), cifar10.test_dataloader())"
   ]
  },
  {
   "cell_type": "code",
   "execution_count": 2,
   "metadata": {},
   "outputs": [
    {
     "data": {
      "text/plain": [
       "50.54"
      ]
     },
     "execution_count": 2,
     "metadata": {},
     "output_type": "execute_result"
    }
   ],
   "source": [
    "100 - 49.46"
   ]
  },
  {
   "cell_type": "code",
   "execution_count": 15,
   "metadata": {},
   "outputs": [],
   "source": [
    "#net_state_dict = model.state_dict()\n",
    "# Save the state dict to a file\n",
    "#torch.save(net_state_dict, 'netCIFAR.torch')"
   ]
  },
  {
   "cell_type": "code",
   "execution_count": null,
   "metadata": {},
   "outputs": [],
   "source": []
  }
 ],
 "metadata": {
  "kernelspec": {
   "display_name": "torch",
   "language": "python",
   "name": "python3"
  },
  "language_info": {
   "codemirror_mode": {
    "name": "ipython",
    "version": 3
   },
   "file_extension": ".py",
   "mimetype": "text/x-python",
   "name": "python",
   "nbconvert_exporter": "python",
   "pygments_lexer": "ipython3",
   "version": "3.8.13"
  },
  "orig_nbformat": 4,
  "vscode": {
   "interpreter": {
    "hash": "eea8b80adef1497d7dfb4c0448d9c7aaf24335e0b82315474639507e757c963e"
   }
  }
 },
 "nbformat": 4,
 "nbformat_minor": 2
}
